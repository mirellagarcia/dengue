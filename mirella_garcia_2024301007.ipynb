{
  "nbformat": 4,
  "nbformat_minor": 0,
  "metadata": {
    "colab": {
      "provenance": [],
      "authorship_tag": "ABX9TyNyIEmXsbg+r4VGFtoJtlmA",
      "include_colab_link": true
    },
    "kernelspec": {
      "name": "python3",
      "display_name": "Python 3"
    },
    "language_info": {
      "name": "python"
    }
  },
  "cells": [
    {
      "cell_type": "markdown",
      "metadata": {
        "id": "view-in-github",
        "colab_type": "text"
      },
      "source": [
        "<a href=\"https://colab.research.google.com/github/mirellagarcia/dengue/blob/main/mirella_garcia_2024301007.ipynb\" target=\"_parent\"><img src=\"https://colab.research.google.com/assets/colab-badge.svg\" alt=\"Open In Colab\"/></a>"
      ]
    },
    {
      "cell_type": "code",
      "execution_count": 61,
      "metadata": {
        "colab": {
          "base_uri": "https://localhost:8080/"
        },
        "id": "BQsgm0k9QdKT",
        "outputId": "b0f1dff4-7905-43d2-f29d-9d6bfc1d2c04"
      },
      "outputs": [
        {
          "output_type": "stream",
          "name": "stdout",
          "text": [
            "  paciente;febre ;dor_muscular;falta_apetite;manchas_vermelhas;dengue\n",
            "0                             1;38.6;sim;sim;sim;sim                 \n",
            "1                             2;36.4;nao;nao;nao;nao                 \n",
            "2                             3;37.5;sim;sim;nao;sim                 \n",
            "3                             4;38.9;sim;sim;sim;sim                 \n",
            "4                             5;39.3;sim;sim;sim;sim                 \n"
          ]
        }
      ],
      "source": [
        "#Biblioteca\n",
        "import pandas as pd\n",
        "\n",
        "#Dados dengue\n",
        "file_path = \"arq_dengue.csv\"\n",
        "\n",
        "#Carregar os dados\n",
        "df = pd.read_csv(file_path)\n",
        "\n",
        "#Exibir as 5 primeiras linhas\n",
        "print(df.head())"
      ]
    },
    {
      "cell_type": "code",
      "source": [
        "#Ajustar colunas\n",
        "df = pd.read_csv(file_path, delimiter=';')\n",
        "print(df.head())"
      ],
      "metadata": {
        "colab": {
          "base_uri": "https://localhost:8080/"
        },
        "id": "QISjgjRIQh1a",
        "outputId": "5fbb6899-504b-4070-bfeb-2449760c0f5f"
      },
      "execution_count": 62,
      "outputs": [
        {
          "output_type": "stream",
          "name": "stdout",
          "text": [
            "   paciente  febre  dor_muscular falta_apetite manchas_vermelhas dengue\n",
            "0         1    38.6          sim           sim               sim    sim\n",
            "1         2    36.4          nao           nao               nao    nao\n",
            "2         3    37.5          sim           sim               nao    sim\n",
            "3         4    38.9          sim           sim               sim    sim\n",
            "4         5    39.3          sim           sim               sim    sim\n"
          ]
        }
      ]
    },
    {
      "cell_type": "code",
      "source": [
        "#Verificando tipo de informação\n",
        "print(df.info())"
      ],
      "metadata": {
        "colab": {
          "base_uri": "https://localhost:8080/"
        },
        "id": "1jJXKeVjSXmU",
        "outputId": "f32d79c4-052f-410c-ffd9-e362b4fb1fb1"
      },
      "execution_count": 63,
      "outputs": [
        {
          "output_type": "stream",
          "name": "stdout",
          "text": [
            "<class 'pandas.core.frame.DataFrame'>\n",
            "RangeIndex: 20 entries, 0 to 19\n",
            "Data columns (total 6 columns):\n",
            " #   Column             Non-Null Count  Dtype  \n",
            "---  ------             --------------  -----  \n",
            " 0   paciente           20 non-null     int64  \n",
            " 1   febre              20 non-null     float64\n",
            " 2   dor_muscular       20 non-null     object \n",
            " 3   falta_apetite      20 non-null     object \n",
            " 4   manchas_vermelhas  20 non-null     object \n",
            " 5   dengue             20 non-null     object \n",
            "dtypes: float64(1), int64(1), object(4)\n",
            "memory usage: 1.1+ KB\n",
            "None\n"
          ]
        }
      ]
    },
    {
      "cell_type": "code",
      "source": [
        "#Codificação binária para \"sim\" e \"nao\"\n",
        "df.replace({'sim': 1, 'nao': 0}, inplace=True)\n",
        "print(df.head())\n",
        "\n",
        "df = df.infer_objects()  #Converte as colunas para tipos apropriados explicitamente"
      ],
      "metadata": {
        "colab": {
          "base_uri": "https://localhost:8080/"
        },
        "id": "wS5FkYuJTzZD",
        "outputId": "22bd2f2c-a861-4f74-bdaf-f4ff6f8ab65c"
      },
      "execution_count": 65,
      "outputs": [
        {
          "output_type": "stream",
          "name": "stdout",
          "text": [
            "   paciente  febre   dor_muscular  falta_apetite  manchas_vermelhas  dengue\n",
            "0         1    38.6             1              1                  1       1\n",
            "1         2    36.4             0              0                  0       0\n",
            "2         3    37.5             1              1                  0       1\n",
            "3         4    38.9             1              1                  1       1\n",
            "4         5    39.3             1              1                  1       1\n"
          ]
        }
      ]
    },
    {
      "cell_type": "code",
      "source": [
        "#Bibliotecas\n",
        "from sklearn.model_selection import train_test_split\n",
        "from sklearn.neighbors import KNeighborsClassifier\n",
        "from sklearn.metrics import confusion_matrix, accuracy_score"
      ],
      "metadata": {
        "id": "-EQqX3HEWRRe"
      },
      "execution_count": 66,
      "outputs": []
    },
    {
      "cell_type": "code",
      "source": [
        "#Dividir Sintoma e Dengue\n",
        "sintoma = df.drop(columns=['dengue'])  #Opções de sintomas\n",
        "dengue = df['dengue']  #Dengue"
      ],
      "metadata": {
        "id": "bN0ZM-USWn1v"
      },
      "execution_count": 67,
      "outputs": []
    },
    {
      "cell_type": "code",
      "source": [
        "#Divisão da base em treinamento e teste (80/20)\n",
        "sintoma_train, sintoma_test, dengue_train, dengue_test = train_test_split(sintoma, dengue, test_size=0.2, random_state=42)\n",
        "\n",
        "#Instanciar o modelo KNeighborsClassifier\n",
        "model = KNeighborsClassifier()"
      ],
      "metadata": {
        "id": "Z1kBsZgsXffB"
      },
      "execution_count": 68,
      "outputs": []
    },
    {
      "cell_type": "code",
      "source": [
        "#Ajustando colunas\n",
        "from sklearn.preprocessing import MinMaxScaler\n",
        "\n",
        "scaler = MinMaxScaler()\n",
        "sintoma_train_scaled = scaler.fit_transform(sintoma_train)\n",
        "sintoma_train_test_scaled = scaler.transform(sintoma_test)"
      ],
      "metadata": {
        "id": "IroOeBTGaGMj"
      },
      "execution_count": 71,
      "outputs": []
    },
    {
      "cell_type": "code",
      "source": [
        "#Treinar o modelo\n",
        "model.fit(sintoma_train, dengue_train)\n",
        "\n",
        "#Fazer predições no conjunto de teste\n",
        "dengue_pred = model.predict(sintoma_test)"
      ],
      "metadata": {
        "id": "aSJzHBwpaOub"
      },
      "execution_count": 72,
      "outputs": []
    },
    {
      "cell_type": "code",
      "source": [
        "#Contando valores\n",
        "print(dengue_train.value_counts())"
      ],
      "metadata": {
        "colab": {
          "base_uri": "https://localhost:8080/"
        },
        "id": "yrRaL_twbBQP",
        "outputId": "8f5d6b05-6504-421c-c817-03b1373d1a5f"
      },
      "execution_count": 73,
      "outputs": [
        {
          "output_type": "stream",
          "name": "stdout",
          "text": [
            "dengue\n",
            "1    10\n",
            "0     6\n",
            "Name: count, dtype: int64\n"
          ]
        }
      ]
    },
    {
      "cell_type": "code",
      "source": [
        "#Matriz de confusão\n",
        "conf_matrix = confusion_matrix(dengue_test, dengue_pred)\n",
        "print(\"Matriz de Confusão:\")\n",
        "print(conf_matrix)"
      ],
      "metadata": {
        "colab": {
          "base_uri": "https://localhost:8080/"
        },
        "id": "8ZOit9FFZAKn",
        "outputId": "d47dfb86-0d0f-461a-dc71-7bb307bb34fc"
      },
      "execution_count": 74,
      "outputs": [
        {
          "output_type": "stream",
          "name": "stdout",
          "text": [
            "Matriz de Confusão:\n",
            "[[0 3]\n",
            " [0 1]]\n"
          ]
        }
      ]
    },
    {
      "cell_type": "code",
      "source": [
        "#Acurácia\n",
        "accuracy = accuracy_score(dengue_test, dengue_pred)\n",
        "print(f\"Acurácia do modelo: {accuracy * 100:.2f}%\")"
      ],
      "metadata": {
        "colab": {
          "base_uri": "https://localhost:8080/"
        },
        "id": "WEBDC9BLZWjM",
        "outputId": "852128f8-e03d-4973-ea75-e21ef463b2b3"
      },
      "execution_count": 75,
      "outputs": [
        {
          "output_type": "stream",
          "name": "stdout",
          "text": [
            "Acurácia do modelo: 25.00%\n"
          ]
        }
      ]
    }
  ]
}