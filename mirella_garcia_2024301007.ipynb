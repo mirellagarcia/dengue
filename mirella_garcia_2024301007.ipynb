{
  "nbformat": 4,
  "nbformat_minor": 0,
  "metadata": {
    "colab": {
      "provenance": [],
      "authorship_tag": "ABX9TyNhUqjs2p6P3TzrjsQQVuV5",
      "include_colab_link": true
    },
    "kernelspec": {
      "name": "python3",
      "display_name": "Python 3"
    },
    "language_info": {
      "name": "python"
    }
  },
  "cells": [
    {
      "cell_type": "markdown",
      "metadata": {
        "id": "view-in-github",
        "colab_type": "text"
      },
      "source": [
        "<a href=\"https://colab.research.google.com/github/mirellagarcia/dengue/blob/main/mirella_garcia_2024301007.ipynb\" target=\"_parent\"><img src=\"https://colab.research.google.com/assets/colab-badge.svg\" alt=\"Open In Colab\"/></a>"
      ]
    },
    {
      "cell_type": "code",
      "execution_count": 42,
      "metadata": {
        "colab": {
          "base_uri": "https://localhost:8080/"
        },
        "id": "BQsgm0k9QdKT",
        "outputId": "6f7773ab-5fb3-450a-b1dd-10c1c4b920e3"
      },
      "outputs": [
        {
          "output_type": "stream",
          "name": "stdout",
          "text": [
            "  paciente;febre ;dor_muscular;falta_apetite;manchas_vermelhas;dengue\n",
            "0                             1;38.6;sim;sim;sim;sim                 \n",
            "1                             2;36.4;nao;nao;nao;nao                 \n",
            "2                             3;37.5;sim;sim;nao;sim                 \n",
            "3                             4;38.9;sim;sim;sim;sim                 \n",
            "4                             5;39.3;sim;sim;sim;sim                 \n"
          ]
        }
      ],
      "source": [
        "#Biblioteca\n",
        "import pandas as pd\n",
        "\n",
        "#Dados dengue\n",
        "file_path = \"arq_dengue.csv\"\n",
        "\n",
        "#Carregar os dados\n",
        "df = pd.read_csv(file_path)\n",
        "\n",
        "#Exibir as 5 primeiras linhas\n",
        "print(df.head())"
      ]
    },
    {
      "cell_type": "code",
      "source": [
        "#Ajustar colunas\n",
        "df = pd.read_csv(file_path, delimiter=';')\n",
        "print(df.head())"
      ],
      "metadata": {
        "colab": {
          "base_uri": "https://localhost:8080/"
        },
        "id": "QISjgjRIQh1a",
        "outputId": "d53eb01c-4d44-455b-a680-447d77522d64"
      },
      "execution_count": 43,
      "outputs": [
        {
          "output_type": "stream",
          "name": "stdout",
          "text": [
            "   paciente  febre  dor_muscular falta_apetite manchas_vermelhas dengue\n",
            "0         1    38.6          sim           sim               sim    sim\n",
            "1         2    36.4          nao           nao               nao    nao\n",
            "2         3    37.5          sim           sim               nao    sim\n",
            "3         4    38.9          sim           sim               sim    sim\n",
            "4         5    39.3          sim           sim               sim    sim\n"
          ]
        }
      ]
    },
    {
      "cell_type": "code",
      "source": [
        "#Verificando tipo de informação\n",
        "print(df.info())"
      ],
      "metadata": {
        "colab": {
          "base_uri": "https://localhost:8080/"
        },
        "id": "1jJXKeVjSXmU",
        "outputId": "cb901a70-a808-4016-d259-a216e0bb08ba"
      },
      "execution_count": 44,
      "outputs": [
        {
          "output_type": "stream",
          "name": "stdout",
          "text": [
            "<class 'pandas.core.frame.DataFrame'>\n",
            "RangeIndex: 20 entries, 0 to 19\n",
            "Data columns (total 6 columns):\n",
            " #   Column             Non-Null Count  Dtype  \n",
            "---  ------             --------------  -----  \n",
            " 0   paciente           20 non-null     int64  \n",
            " 1   febre              20 non-null     float64\n",
            " 2   dor_muscular       20 non-null     object \n",
            " 3   falta_apetite      20 non-null     object \n",
            " 4   manchas_vermelhas  20 non-null     object \n",
            " 5   dengue             20 non-null     object \n",
            "dtypes: float64(1), int64(1), object(4)\n",
            "memory usage: 1.1+ KB\n",
            "None\n"
          ]
        }
      ]
    },
    {
      "cell_type": "code",
      "source": [
        "#Codificação binária para \"sim\" e \"nao\"\n",
        "df.replace({'sim': 1, 'nao': 0}, inplace=True)\n",
        "print(df.head())"
      ],
      "metadata": {
        "colab": {
          "base_uri": "https://localhost:8080/"
        },
        "id": "wS5FkYuJTzZD",
        "outputId": "5a1a6a2f-8a75-4748-ce10-71f84eedaef5"
      },
      "execution_count": 45,
      "outputs": [
        {
          "output_type": "stream",
          "name": "stdout",
          "text": [
            "   paciente  febre   dor_muscular  falta_apetite  manchas_vermelhas  dengue\n",
            "0         1    38.6             1              1                  1       1\n",
            "1         2    36.4             0              0                  0       0\n",
            "2         3    37.5             1              1                  0       1\n",
            "3         4    38.9             1              1                  1       1\n",
            "4         5    39.3             1              1                  1       1\n"
          ]
        },
        {
          "output_type": "stream",
          "name": "stderr",
          "text": [
            "<ipython-input-45-3f8b940f4268>:2: FutureWarning: Downcasting behavior in `replace` is deprecated and will be removed in a future version. To retain the old behavior, explicitly call `result.infer_objects(copy=False)`. To opt-in to the future behavior, set `pd.set_option('future.no_silent_downcasting', True)`\n",
            "  df.replace({'sim': 1, 'nao': 0}, inplace=True)\n"
          ]
        }
      ]
    },
    {
      "cell_type": "code",
      "source": [
        "#Bibliotecas\n",
        "from sklearn.model_selection import train_test_split\n",
        "from sklearn.neighbors import KNeighborsClassifier\n",
        "from sklearn.metrics import confusion_matrix, accuracy_score"
      ],
      "metadata": {
        "id": "-EQqX3HEWRRe"
      },
      "execution_count": 46,
      "outputs": []
    },
    {
      "cell_type": "code",
      "source": [
        "#Dividir Sintoma e Dengue\n",
        "sintoma = df.drop(columns=['dengue'])  #Opções de sintomas\n",
        "dengue = df['dengue']  #Dengue"
      ],
      "metadata": {
        "id": "bN0ZM-USWn1v"
      },
      "execution_count": 47,
      "outputs": []
    },
    {
      "cell_type": "code",
      "source": [
        "#Divisão da base em treinamento e teste (80/20)\n",
        "sintoma_train, sintoma_test, dengue_train, dengue_test = train_test_split(sintoma, dengue, test_size=0.2, random_state=42)\n",
        "\n",
        "#Instanciar o modelo KNeighborsClassifier\n",
        "model = KNeighborsClassifier()"
      ],
      "metadata": {
        "id": "Z1kBsZgsXffB"
      },
      "execution_count": 48,
      "outputs": []
    },
    {
      "cell_type": "code",
      "source": [
        "#Ajustando colunas\n",
        "from sklearn.preprocessing import MinMaxScaler\n",
        "\n",
        "scaler = MinMaxScaler()\n",
        "X_train_scaled = scaler.fit_transform(sintoma_train)\n",
        "X_test_scaled = scaler.transform(sintoma_test)"
      ],
      "metadata": {
        "id": "IroOeBTGaGMj"
      },
      "execution_count": 49,
      "outputs": []
    },
    {
      "cell_type": "code",
      "source": [
        "#Treinar o modelo\n",
        "model.fit(sintoma_train, dengue_train)\n",
        "\n",
        "#Fazer predições no conjunto de teste\n",
        "dengue_pred = model.predict(sintoma_test)"
      ],
      "metadata": {
        "id": "aSJzHBwpaOub"
      },
      "execution_count": 50,
      "outputs": []
    },
    {
      "cell_type": "code",
      "source": [
        "#Contando valores\n",
        "print(dengue_train.value_counts())"
      ],
      "metadata": {
        "colab": {
          "base_uri": "https://localhost:8080/"
        },
        "id": "yrRaL_twbBQP",
        "outputId": "b8b65e35-7be0-4a60-a0d6-5756d6d23b11"
      },
      "execution_count": 51,
      "outputs": [
        {
          "output_type": "stream",
          "name": "stdout",
          "text": [
            "dengue\n",
            "1    10\n",
            "0     6\n",
            "Name: count, dtype: int64\n"
          ]
        }
      ]
    },
    {
      "cell_type": "code",
      "source": [
        "#Matriz de confusão\n",
        "conf_matrix = confusion_matrix(dengue_test, dengue_pred)\n",
        "print(\"Matriz de Confusão:\")\n",
        "print(conf_matrix)"
      ],
      "metadata": {
        "colab": {
          "base_uri": "https://localhost:8080/"
        },
        "id": "8ZOit9FFZAKn",
        "outputId": "e29b4a85-e273-42b5-d32a-e33963d47ac3"
      },
      "execution_count": 52,
      "outputs": [
        {
          "output_type": "stream",
          "name": "stdout",
          "text": [
            "Matriz de Confusão:\n",
            "[[0 3]\n",
            " [0 1]]\n"
          ]
        }
      ]
    },
    {
      "cell_type": "code",
      "source": [
        "#Acurácia\n",
        "accuracy = accuracy_score(dengue_test, dengue_pred)\n",
        "print(f\"Acurácia do modelo: {accuracy * 100:.2f}%\")"
      ],
      "metadata": {
        "colab": {
          "base_uri": "https://localhost:8080/"
        },
        "id": "WEBDC9BLZWjM",
        "outputId": "12bf2984-a965-482c-f657-1385b42398d1"
      },
      "execution_count": 53,
      "outputs": [
        {
          "output_type": "stream",
          "name": "stdout",
          "text": [
            "Acurácia do modelo: 25.00%\n"
          ]
        }
      ]
    }
  ]
}